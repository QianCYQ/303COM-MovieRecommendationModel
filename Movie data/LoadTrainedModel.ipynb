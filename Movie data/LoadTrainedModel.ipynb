{
 "cells": [
  {
   "cell_type": "code",
   "execution_count": 1,
   "id": "c68ae58b",
   "metadata": {},
   "outputs": [],
   "source": [
    "import tensorflow as tf"
   ]
  },
  {
   "cell_type": "code",
   "execution_count": 2,
   "id": "3c3cd649",
   "metadata": {},
   "outputs": [
    {
     "name": "stdout",
     "output_type": "stream",
     "text": [
      "Recommendations for this movie description: [b'The Station Agent' b'Scarface' b'Raazi' b'Barton Fink'\n",
      " b'La Grande Illusion' b'Mr. Smith Goes to Washington' b'Toy Story'\n",
      " b'La piel que habito' b'Star Wars: Episode VII - The Force Awakens'\n",
      " b'Kakushi-toride no san-akunin']\n",
      "The score obtain for each movie: [15.868319  11.406765   8.130211   7.0137377  6.6616354  6.5723734\n",
      "  6.43346    6.313094   6.310127   6.0390673]\n"
     ]
    }
   ],
   "source": [
    "loaded = tf.saved_model.load('C:\\\\Users\\\\Acer\\\\Desktop\\\\Movie data\\\\SimilarityModel')#Path to the model\n",
    "\n",
    "# Pass a movie description in, get top predicted movie titles back.\n",
    "scores, titles = loaded([\"When his only friend dies, a man born with dwarfism moves to rural New Jersey to live a life of solitude, only to meet a chatty hot dog vendor and a woman dealing with her own personal loss.\"])\n",
    "\n",
    "print(f\"Recommendations for this movie description: {titles[0][:10]}\")\n",
    "print(f\"The score obtain for each movie: {scores[0][:10]}\")"
   ]
  },
  {
   "cell_type": "code",
   "execution_count": null,
   "id": "e95be57e",
   "metadata": {},
   "outputs": [],
   "source": []
  }
 ],
 "metadata": {
  "kernelspec": {
   "display_name": "Python 3 (ipykernel)",
   "language": "python",
   "name": "python3"
  },
  "language_info": {
   "codemirror_mode": {
    "name": "ipython",
    "version": 3
   },
   "file_extension": ".py",
   "mimetype": "text/x-python",
   "name": "python",
   "nbconvert_exporter": "python",
   "pygments_lexer": "ipython3",
   "version": "3.9.7"
  }
 },
 "nbformat": 4,
 "nbformat_minor": 5
}
